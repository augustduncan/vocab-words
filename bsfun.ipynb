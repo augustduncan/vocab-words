{
 "cells": [
  {
   "cell_type": "code",
   "execution_count": 54,
   "metadata": {},
   "outputs": [],
   "source": [
    "import requests\n",
    "from bs4 import BeautifulSoup\n",
    "import pandas as pd"
   ]
  },
  {
   "cell_type": "code",
   "execution_count": 55,
   "metadata": {},
   "outputs": [],
   "source": [
    "URL = \"https://www.pensiondanmark.com/en/investments/equity-list/\"\n",
    "page = requests.get(URL)\n",
    "\n",
    "soup = BeautifulSoup(page.content, \"html.parser\")"
   ]
  },
  {
   "cell_type": "code",
   "execution_count": 56,
   "metadata": {},
   "outputs": [],
   "source": [
    "tables = soup.find_all(\"tr\", class_ = \"row-with-link\")"
   ]
  },
  {
   "cell_type": "code",
   "execution_count": 57,
   "metadata": {},
   "outputs": [],
   "source": [
    "items = []\n",
    "\n",
    "for table in tables:\n",
    "    company_name = table.find_all(\"td\")\n",
    "   #print(company_name)\n",
    "    for item in company_name:\n",
    "        items.append((item.text).strip())\n",
    "\n",
    "#print(items)\n"
   ]
  },
  {
   "cell_type": "code",
   "execution_count": 58,
   "metadata": {},
   "outputs": [],
   "source": [
    "### itertools\n",
    "\n",
    "chunks = [items[i:i+5] for i in range(0, len(items), 5)]\n",
    "#print(chunks)"
   ]
  },
  {
   "cell_type": "code",
   "execution_count": 59,
   "metadata": {},
   "outputs": [
    {
     "name": "stdout",
     "output_type": "stream",
     "text": [
      "            Country                 Name Market Value  \\\n",
      "0     United states                Apple       699.53   \n",
      "1     United states               NVIDIA       635.21   \n",
      "2     United states            Microsoft       597.87   \n",
      "3     United states           Amazon.com       404.96   \n",
      "4     United states             Alphabet       376.58   \n",
      "...             ...                  ...          ...   \n",
      "1448  United states    Westlake Chemical         0.15   \n",
      "1449          China      NARI Technology         0.11   \n",
      "1450         France              Euroapi         0.00   \n",
      "1451          India  Piramal Enterprises         0.00   \n",
      "1452          India       Piramal Pharma         0.00   \n",
      "\n",
      "                                          Sector  \n",
      "0     Technology Hardware, Storage & Peripherals  \n",
      "1                                 Semiconductors  \n",
      "2                               Systems Software  \n",
      "3                               Broadline Retail  \n",
      "4                   Interactive Media & Services  \n",
      "...                                          ...  \n",
      "1448                         Commodity Chemicals  \n",
      "1449                  Heavy Electrical Equipment  \n",
      "1450                             Pharmaceuticals  \n",
      "1451                         Specialized Finance  \n",
      "1452                             Pharmaceuticals  \n",
      "\n",
      "[1453 rows x 4 columns]\n"
     ]
    }
   ],
   "source": [
    "df = pd.DataFrame(chunks, columns=[\"Country\", \"Name\", \"Market Value\", \"Sector\", \"Link\"])\n",
    "df = df.drop(columns=['Link'])\n",
    "\n",
    "print(df)\n"
   ]
  }
 ],
 "metadata": {
  "kernelspec": {
   "display_name": "Python 3",
   "language": "python",
   "name": "python3"
  },
  "language_info": {
   "codemirror_mode": {
    "name": "ipython",
    "version": 3
   },
   "file_extension": ".py",
   "mimetype": "text/x-python",
   "name": "python",
   "nbconvert_exporter": "python",
   "pygments_lexer": "ipython3",
   "version": "3.13.1"
  }
 },
 "nbformat": 4,
 "nbformat_minor": 2
}
